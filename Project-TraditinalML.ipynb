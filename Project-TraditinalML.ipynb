{
 "cells": [
  {
   "cell_type": "markdown",
   "metadata": {},
   "source": [
    "# Dat550 Project"
   ]
  },
  {
   "cell_type": "code",
   "execution_count": 1,
   "metadata": {},
   "outputs": [],
   "source": [
    "import json\n",
    "import string\n",
    "import pandas as pd\n",
    "import numpy as np\n",
    "from joblib import Parallel, delayed\n",
    "from sklearn.model_selection import train_test_split\n",
    "from sklearn.tree import DecisionTreeClassifier\n",
    "from sklearn.ensemble import RandomForestClassifier\n",
    "from sklearn.metrics import classification_report\n",
    "from sklearn.linear_model import LogisticRegression\n",
    "from textstat import textstat\n",
    "from tqdm.notebook import tqdm\n",
    "from sklearn.metrics import confusion_matrix\n",
    "from sklearn.feature_extraction.text import TfidfVectorizer\n",
    "import scipy.sparse\n",
    "import seaborn as sns\n",
    "import matplotlib.pyplot as plt\n",
    "\n",
    "tqdm.pandas()"
   ]
  },
  {
   "cell_type": "markdown",
   "metadata": {},
   "source": [
    "## Load Data "
   ]
  },
  {
   "cell_type": "code",
   "execution_count": null,
   "metadata": {},
   "outputs": [],
   "source": [
    "def load_json(filepath):\n",
    "    articles = []\n",
    "    table = str.maketrans(\"\",\"\",string.punctuation+\"“”‘’\")\n",
    "    \n",
    "    with open(filepath, \"r\", encoding=\"utf-8\") as f:\n",
    "        total_lines = sum(1 for _ in f)\n",
    "    \n",
    "    with open(filepath, \"r\", encoding=\"utf-8\") as f:\n",
    "        for line in tqdm(f, total=total_lines, desc=\"Loading articles\"):\n",
    "            data = json.loads(line)\n",
    "            title = data[\"title\"].translate(table)\n",
    "            content = data[\"content\"].translate(table)\n",
    "            articles.append({\n",
    "                \"id\": int(data[\"id\"]),\n",
    "                \"content\": f\"{title} {content}\"\n",
    "            })\n",
    "    \n",
    "    return pd.DataFrame(articles)\n",
    "\n",
    "\n",
    "\n",
    "def load_ground_truth(filepath):\n",
    "    return pd.read_json(filepath, orient=\"records\", lines=True)\n",
    "\n",
    "def merge_with_ground_truth(articles_df, ground_truth_df):\n",
    "    return articles_df.merge(ground_truth_df[['id', 'hyperpartisan']], on='id', how='left')\n",
    "        "
   ]
  },
  {
   "cell_type": "markdown",
   "metadata": {},
   "source": [
    "### Wrapper fucntion for loading data"
   ]
  },
  {
   "cell_type": "code",
   "execution_count": 5,
   "metadata": {},
   "outputs": [],
   "source": [
    "def prepare_data(article_path, truth_path):\n",
    "    print(\"Loading and merging data...\")\n",
    "    articles_df = load_json(article_path)\n",
    "    ground_truth_df = load_ground_truth(truth_path)\n",
    "    df = merge_with_ground_truth(articles_df, ground_truth_df)\n",
    "\n",
    "    # Filter out samples with missing labels\n",
    "    df = df.dropna(subset=['hyperpartisan'])\n",
    "    df['label'] = df['hyperpartisan'].astype(int)\n",
    "    return df"
   ]
  },
  {
   "cell_type": "markdown",
   "metadata": {},
   "source": [
    "## Feature extraioction\n",
    "This module is designed to extraction of stylometric, linguistic, and sentiment-based features from the articles. These features are useed for downstream together with the vectorized text"
   ]
  },
  {
   "cell_type": "code",
   "execution_count": 6,
   "metadata": {},
   "outputs": [],
   "source": [
    "def extract_features(text):\n",
    "    from vaderSentiment.vaderSentiment import SentimentIntensityAnalyzer\n",
    "    import textstat\n",
    "    from collections import Counter\n",
    "    import re\n",
    "\n",
    "    sia = SentimentIntensityAnalyzer()\n",
    "    sentiment = sia.polarity_scores(text)\n",
    "    words = text.lower().split()\n",
    "    word_counts = Counter(words)\n",
    "    \n",
    "    # Emotional/intense language features\n",
    "    intense_adj = {'absolute', 'utter', 'total', 'complete', 'extreme', 'radical'}\n",
    "    modal_verbs = {'must', 'should', 'ought', 'shall', 'would'}\n",
    "    generalization = {'always', 'never', 'every', 'all', 'none', 'no one'}\n",
    "    \n",
    "    features = {\n",
    "        # Sentiment features\n",
    "        'sent_neg': sentiment['neg'],\n",
    "        'sent_pos': sentiment['pos'],\n",
    "        'sent_compound': sentiment['compound'],\n",
    "        'sent_neu': sentiment['neu'],\n",
    "        \n",
    "        # Readability/complexity\n",
    "        'flesch': textstat.flesch_reading_ease(text),\n",
    "        'smog': textstat.smog_index(text),\n",
    "        'lex_div': len(set(words))/len(words) if words else 0,  # type-token ratio\n",
    "        \n",
    "        # Punctuation\n",
    "        'exclam': text.count('!'),\n",
    "        'questions': text.count('?'),\n",
    "        'quotes': text.count('\"'),\n",
    "        'all_caps': len(re.findall(r'\\b[A-Z]{2,}\\b', text)),\n",
    "        \n",
    "        # Length\n",
    "        'length': len(words),\n",
    "        'avg_word_len': sum(len(w) for w in words)/len(words) if words else 0,\n",
    "        \n",
    "        # Content features\n",
    "        'intense_adj': sum(word_counts.get(adj, 0) for adj in intense_adj),\n",
    "        'modal_verbs': sum(word_counts.get(mv, 0) for mv in modal_verbs),\n",
    "        'generalization': sum(word_counts.get(gen, 0) for gen in generalization),\n",
    "        'num_proper_nouns': len(re.findall(r'\\b[A-Z][a-z]+\\b', text)),\n",
    "    }\n",
    "\n",
    "    return features\n",
    "\n",
    "def extract_stylometric_features_parallel(df, n_jobs=8):\n",
    "    texts = df['content'].tolist()\n",
    "    results = Parallel(n_jobs=n_jobs)(\n",
    "        delayed(extract_features)(text) for text in tqdm(texts, desc=\"Extracting Features\")\n",
    "    )\n",
    "    return pd.DataFrame(results)"
   ]
  },
  {
   "cell_type": "markdown",
   "metadata": {},
   "source": [
    "## TF-IDF Vectorization for Hyper-Partisan News Detection\n",
    "\n",
    "This module defines functions for converting raw text into numerical representations using **TF-IDF (Term Frequency-Inverse Document Frequency)**, a commonly used technique in text classification, this time for **hyper-partisan news detection**.\n",
    "\n",
    "---\n",
    "\n",
    "**Why Batching?**\n",
    "- The vocabulary is built incrementally in batches to avoid memory overload and to ensure the vectorizer is exposed to all terms in the dataset.\n",
    "\n",
    "\n",
    "\n"
   ]
  },
  {
   "cell_type": "code",
   "execution_count": null,
   "metadata": {},
   "outputs": [],
   "source": [
    "def create_text_vectorizer(texts, max_tokens=1000):\n",
    "\n",
    "    print(\"Creating TfidfVectorizer...\")\n",
    "    vectorizer = TfidfVectorizer(\n",
    "        max_features=max_tokens,\n",
    "        ngram_range=(1, 2),  # Uni-grams + bi-grams\n",
    "        stop_words='english', \n",
    "        sublinear_tf=True     \n",
    "    )\n",
    "    \n",
    "    batch_size = 1000\n",
    "    for i in tqdm(range(0, len(texts), batch_size), \n",
    "                 desc=\"Building Vocabulary\",\n",
    "                 unit=\"batch\"):\n",
    "        batch = texts.iloc[i:i+batch_size] if hasattr(texts, 'iloc') else texts[i:i+batch_size]\n",
    "        vectorizer.fit(batch)  # fit() accumulates vocabulary\n",
    "    \n",
    "    return vectorizer\n",
    "\n",
    "def vectorize_text_in_batches(texts, vectorizer, batch_size=10000):\n",
    "\n",
    "    all_vectors = []\n",
    "    \n",
    "    for i in tqdm(range(0, len(texts), batch_size),\n",
    "                 desc=\"Vectorizing Text\",\n",
    "                 unit=\"batch\"):\n",
    "        batch = texts.iloc[i:i+batch_size] if hasattr(texts, 'iloc') else texts[i:i+batch_size]\n",
    "        all_vectors.append(vectorizer.transform(batch))  # Returns sparse matrix\n",
    "    \n",
    "    return scipy.sparse.vstack(all_vectors)  # Concatenate vertically"
   ]
  },
  {
   "cell_type": "markdown",
   "metadata": {},
   "source": [
    "## Model training\n",
    "Helper fucntion to train and evaluate the different models"
   ]
  },
  {
   "cell_type": "code",
   "execution_count": 8,
   "metadata": {},
   "outputs": [],
   "source": [
    "def train_sklearn_model(model, X_train, X_test, y_train, y_test):\n",
    "    print(f\"\\nTraining {model.__class__.__name__}...\")\n",
    "    model.fit(X_train, y_train)\n",
    "    preds = model.predict(X_test)\n",
    "    print(f\"\\nClassification Report ({model.__class__.__name__}):\")\n",
    "    print(classification_report(y_test, preds))\n",
    "\n",
    "     # Generate and plot confusion matrix\n",
    "    cm = confusion_matrix(y_test, preds)\n",
    "    plt.figure(figsize=(8, 6))\n",
    "    sns.heatmap(cm, annot=True, fmt='d', cmap='Blues', \n",
    "                xticklabels=model.classes_, \n",
    "                yticklabels=model.classes_)\n",
    "    plt.title(f'Confusion Matrix ({model.__class__.__name__})')\n",
    "    plt.ylabel('True Label')\n",
    "    plt.xlabel('Predicted Label')\n",
    "    plt.show()\n",
    "    \n",
    "    return model\n",
    "\n"
   ]
  },
  {
   "cell_type": "markdown",
   "metadata": {},
   "source": [
    "## Print missclassified\n",
    "prints out missclassified articles"
   ]
  },
  {
   "cell_type": "code",
   "execution_count": null,
   "metadata": {},
   "outputs": [],
   "source": [
    "def print_misclassified(model, X_test, y_test):\n",
    "\n",
    "    # Get predictions\n",
    "    y_pred = model.predict(X_test)\n",
    "    \n",
    "    # Identify misclassified samples\n",
    "    misclassified_mask = (y_test != y_pred)\n",
    "    n_misclassified = sum(misclassified_mask)\n",
    "    \n",
    "    print(f\"\\nMisclassification Report for {model.__class__.__name__}:\")\n",
    "    print(f\"Total misclassified: {n_misclassified}/{len(y_test)} ({n_misclassified/len(y_test):.1%})\")"
   ]
  },
  {
   "cell_type": "markdown",
   "metadata": {},
   "source": [
    "## Load articles"
   ]
  },
  {
   "cell_type": "code",
   "execution_count": 10,
   "metadata": {},
   "outputs": [
    {
     "name": "stdout",
     "output_type": "stream",
     "text": [
      "Loading and merging data...\n"
     ]
    },
    {
     "data": {
      "application/vnd.jupyter.widget-view+json": {
       "model_id": "fcf5efe6f4944cdc80cecdbddbe0a03d",
       "version_major": 2,
       "version_minor": 0
      },
      "text/plain": [
       "Loading articles:   0%|          | 0/645 [00:00<?, ?it/s]"
      ]
     },
     "metadata": {},
     "output_type": "display_data"
    }
   ],
   "source": [
    "# Load and process articles\n",
    "df = prepare_data(\n",
    "    \"preprocessing/data/articles-training-byarticle.jsonl\",\n",
    "    \"preprocessing/data/ground-truth-training-byarticle.jsonl\"\n",
    ")\n",
    "\n"
   ]
  },
  {
   "cell_type": "markdown",
   "metadata": {},
   "source": [
    "## Vectorize text"
   ]
  },
  {
   "cell_type": "code",
   "execution_count": 11,
   "metadata": {},
   "outputs": [
    {
     "name": "stdout",
     "output_type": "stream",
     "text": [
      "Creating TfidfVectorizer...\n"
     ]
    },
    {
     "data": {
      "application/vnd.jupyter.widget-view+json": {
       "model_id": "9c11160081a448bfaacd7d0f36035120",
       "version_major": 2,
       "version_minor": 0
      },
      "text/plain": [
       "Building Vocabulary:   0%|          | 0/1 [00:00<?, ?batch/s]"
      ]
     },
     "metadata": {},
     "output_type": "display_data"
    }
   ],
   "source": [
    "vecotorizer = create_text_vectorizer(df[\"content\"])\n",
    "\n",
    "\n"
   ]
  },
  {
   "cell_type": "code",
   "execution_count": 12,
   "metadata": {},
   "outputs": [
    {
     "data": {
      "application/vnd.jupyter.widget-view+json": {
       "model_id": "67c050f6540e4f85bbb876811f8d3c62",
       "version_major": 2,
       "version_minor": 0
      },
      "text/plain": [
       "Vectorizing Text:   0%|          | 0/1 [00:00<?, ?batch/s]"
      ]
     },
     "metadata": {},
     "output_type": "display_data"
    }
   ],
   "source": [
    "X_train = vectorize_text_in_batches(df[\"content\"],vecotorizer)"
   ]
  },
  {
   "cell_type": "markdown",
   "metadata": {},
   "source": [
    "## combine with stylometric features"
   ]
  },
  {
   "cell_type": "code",
   "execution_count": 13,
   "metadata": {},
   "outputs": [
    {
     "data": {
      "application/vnd.jupyter.widget-view+json": {
       "model_id": "1f24c6bb612f4cbabe7222f8cc87177d",
       "version_major": 2,
       "version_minor": 0
      },
      "text/plain": [
       "Extracting Features:   0%|          | 0/645 [00:00<?, ?it/s]"
      ]
     },
     "metadata": {},
     "output_type": "display_data"
    }
   ],
   "source": [
    "X_train_combined = scipy.sparse.hstack([\n",
    "    X_train,\n",
    "    extract_stylometric_features_parallel(df).values\n",
    "])"
   ]
  },
  {
   "cell_type": "markdown",
   "metadata": {},
   "source": [
    "## Repeated for test data"
   ]
  },
  {
   "cell_type": "code",
   "execution_count": 14,
   "metadata": {},
   "outputs": [
    {
     "data": {
      "application/vnd.jupyter.widget-view+json": {
       "model_id": "5fdbaae8230643779dfe5842ac25ec63",
       "version_major": 2,
       "version_minor": 0
      },
      "text/plain": [
       "Vectorizing Text:   0%|          | 0/1 [00:00<?, ?batch/s]"
      ]
     },
     "metadata": {},
     "output_type": "display_data"
    },
    {
     "data": {
      "application/vnd.jupyter.widget-view+json": {
       "model_id": "31a907ca042b4139ba3d5ad65793ec0e",
       "version_major": 2,
       "version_minor": 0
      },
      "text/plain": [
       "Extracting Features:   0%|          | 0/628 [00:00<?, ?it/s]"
      ]
     },
     "metadata": {},
     "output_type": "display_data"
    }
   ],
   "source": [
    "test_articles_path = \"preprocessing/data/articles-test-byarticle.jsonl\"\n",
    "test_ground_truth_path = \"preprocessing/data/ground-truth-test-byarticle.jsonl\"\n",
    "\n",
    "# Load the test data and ground truth as DataFrames\n",
    "test_articles = pd.read_json(test_articles_path, orient=\"records\", lines=True)\n",
    "test_ground_truth = pd.read_json(test_ground_truth_path, orient=\"records\", lines=True)\n",
    "\n",
    "test_articles = test_articles.drop(columns=['hyperpartisan'])\n",
    "# Merge the two DataFrames\n",
    "test_data_df = pd.merge(test_articles, test_ground_truth[['id', 'hyperpartisan']], on='id')\n",
    "\n",
    "X_test = vectorize_text_in_batches(test_data_df[\"content\"], vecotorizer)\n",
    "\n",
    "X_test_combined = scipy.sparse.hstack([\n",
    "    X_test,\n",
    "    extract_stylometric_features_parallel(test_data_df).values\n",
    "])\n",
    "\n"
   ]
  },
  {
   "cell_type": "code",
   "execution_count": null,
   "metadata": {},
   "outputs": [],
   "source": [
    "y_train = df[\"label\"]\n",
    "y_test = test_data_df[\"hyperpartisan\"].astype(int)\n",
    "\n",
    "\n"
   ]
  },
  {
   "cell_type": "markdown",
   "metadata": {},
   "source": [
    "## Logistic Regression"
   ]
  },
  {
   "cell_type": "code",
   "execution_count": 16,
   "metadata": {},
   "outputs": [
    {
     "name": "stdout",
     "output_type": "stream",
     "text": [
      "\n",
      "Training LogisticRegression...\n",
      "\n",
      "Classification Report (LogisticRegression):\n",
      "              precision    recall  f1-score   support\n",
      "\n",
      "           0       0.57      0.96      0.72       314\n",
      "           1       0.88      0.28      0.43       314\n",
      "\n",
      "    accuracy                           0.62       628\n",
      "   macro avg       0.73      0.62      0.57       628\n",
      "weighted avg       0.73      0.62      0.57       628\n",
      "\n"
     ]
    },
    {
     "data": {
      "image/png": "[encoded data removed]",
      "text/plain": [
       "<Figure size 800x600 with 2 Axes>"
      ]
     },
     "metadata": {},
     "output_type": "display_data"
    },
    {
     "name": "stdout",
     "output_type": "stream",
     "text": [
      "\n",
      "Misclassification Report for LogisticRegression:\n",
      "Total misclassified: 237/628 (37.7%)\n"
     ]
    }
   ],
   "source": [
    "# Train & evaluate\n",
    "lr_model = LogisticRegression(\n",
    "        class_weight='balanced',\n",
    "        max_iter=1000,\n",
    "        solver='liblinear'\n",
    "    )\n",
    "\n",
    "trained_lr = train_sklearn_model(lr_model,X_train_combined,X_test_combined,y_train,y_test)\n",
    "print_misclassified(trained_lr,X_test_combined,y_test)\n",
    "\n",
    "\n",
    "\n"
   ]
  },
  {
   "cell_type": "markdown",
   "metadata": {},
   "source": [
    "## Decision Tree"
   ]
  },
  {
   "cell_type": "code",
   "execution_count": 51,
   "metadata": {},
   "outputs": [
    {
     "name": "stdout",
     "output_type": "stream",
     "text": [
      "\n",
      "Training DecisionTreeClassifier...\n",
      "\n",
      "Classification Report (DecisionTreeClassifier):\n",
      "              precision    recall  f1-score   support\n",
      "\n",
      "           0       0.64      0.75      0.69       314\n",
      "           1       0.70      0.58      0.63       314\n",
      "\n",
      "    accuracy                           0.66       628\n",
      "   macro avg       0.67      0.66      0.66       628\n",
      "weighted avg       0.67      0.66      0.66       628\n",
      "\n"
     ]
    },
    {
     "data": {
      "image/png": "[encoded data removed]",
      "text/plain": [
       "<Figure size 800x600 with 2 Axes>"
      ]
     },
     "metadata": {},
     "output_type": "display_data"
    },
    {
     "name": "stdout",
     "output_type": "stream",
     "text": [
      "\n",
      "Misclassification Report for DecisionTreeClassifier:\n",
      "Total misclassified: 211/628 (33.6%)\n"
     ]
    }
   ],
   "source": [
    "# Decision Tree\n",
    "dt_model = DecisionTreeClassifier(criterion=\"entropy\",class_weight='balanced', max_depth=16, random_state=42)\n",
    "trained_dt = train_sklearn_model(dt_model,X_train_combined,X_test_combined,y_train,y_test)\n",
    "print_misclassified(trained_dt,X_test_combined,y_test)"
   ]
  },
  {
   "cell_type": "markdown",
   "metadata": {},
   "source": [
    "### Decsion tree optimization"
   ]
  },
  {
   "cell_type": "code",
   "execution_count": null,
   "metadata": {},
   "outputs": [
    {
     "name": "stdout",
     "output_type": "stream",
     "text": [
      "Best Parameters (Randomized): {'criterion': 'entropy', 'max_depth': 16, 'max_features': None, 'min_samples_leaf': 4, 'min_samples_split': 8}\n",
      "\n",
      "Test Set Performance:\n",
      "              precision    recall  f1-score   support\n",
      "\n",
      "           0       0.63      0.78      0.70       314\n",
      "           1       0.71      0.53      0.61       314\n",
      "\n",
      "    accuracy                           0.66       628\n",
      "   macro avg       0.67      0.66      0.65       628\n",
      "weighted avg       0.67      0.66      0.65       628\n",
      "\n"
     ]
    }
   ],
   "source": [
    "from scipy.stats import randint\n",
    "from sklearn.model_selection import RandomizedSearchCV\n",
    "dt = DecisionTreeClassifier(random_state=42)\n",
    "\n",
    "param_dist = {\n",
    "    'criterion': ['gini', 'entropy'],\n",
    "    'max_depth': randint(3, 20),  \n",
    "    'min_samples_split': randint(2, 10),  \n",
    "    'min_samples_leaf': randint(1, 5),  \n",
    "    'max_features': ['sqrt', 'log2', None] \n",
    "}\n",
    "\n",
    "random_search = RandomizedSearchCV(\n",
    "    estimator=dt,\n",
    "    param_distributions=param_dist,\n",
    "    n_iter=50,  \n",
    "    cv=5,  \n",
    "    scoring='recall', \n",
    "    random_state=42,  \n",
    "    n_jobs=-1  \n",
    ")\n",
    "\n",
    "random_search.fit(X_train_combined, y_train)\n",
    "\n",
    "print(\"Best Parameters (Randomized):\", random_search.best_params_)\n",
    "\n",
    "best_dt_random = random_search.best_estimator_\n",
    "\n",
    "y_pred = best_dt_random.predict(X_test_combined)\n",
    "print(\"\\nTest Set Performance:\")\n",
    "print(classification_report(y_test, y_pred))\n",
    "\n"
   ]
  },
  {
   "cell_type": "markdown",
   "metadata": {},
   "source": [
    "## Random Forest "
   ]
  },
  {
   "cell_type": "code",
   "execution_count": 50,
   "metadata": {},
   "outputs": [
    {
     "name": "stdout",
     "output_type": "stream",
     "text": [
      "\n",
      "Training RandomForestClassifier...\n",
      "\n",
      "Classification Report (RandomForestClassifier):\n",
      "              precision    recall  f1-score   support\n",
      "\n",
      "           0       0.66      0.89      0.76       314\n",
      "           1       0.83      0.53      0.65       314\n",
      "\n",
      "    accuracy                           0.71       628\n",
      "   macro avg       0.74      0.71      0.70       628\n",
      "weighted avg       0.74      0.71      0.70       628\n",
      "\n"
     ]
    },
    {
     "data": {
      "image/png": "[encoded data removed]",
      "text/plain": [
       "<Figure size 800x600 with 2 Axes>"
      ]
     },
     "metadata": {},
     "output_type": "display_data"
    },
    {
     "name": "stdout",
     "output_type": "stream",
     "text": [
      "\n",
      "Misclassification Report for RandomForestClassifier:\n",
      "Total misclassified: 181/628 (28.8%)\n"
     ]
    }
   ],
   "source": [
    "# Random Forest\n",
    "rf_model = RandomForestClassifier(class_weight='balanced', n_estimators=72, max_depth=16, random_state=42)\n",
    "trained_rf = train_sklearn_model(rf_model,X_train_combined,X_test_combined,y_train,y_test)\n",
    "\n",
    "print_misclassified(trained_rf,X_test_combined,y_test)"
   ]
  },
  {
   "cell_type": "code",
   "execution_count": 19,
   "metadata": {},
   "outputs": [
    {
     "name": "stdout",
     "output_type": "stream",
     "text": [
      "Train F1: 0.996\n",
      "Test F1: 0.656\n"
     ]
    }
   ],
   "source": [
    "from sklearn.metrics import f1_score\n",
    "\n",
    "train_preds = rf_model.predict(X_train_combined)\n",
    "test_preds = rf_model.predict(X_test_combined)\n",
    "\n",
    "print(f\"Train F1: {f1_score(y_train, train_preds):.3f}\")\n",
    "print(f\"Test F1: {f1_score(y_test, test_preds):.3f}\")"
   ]
  }
 ],
 "metadata": {
  "kernelspec": {
   "display_name": ".venv",
   "language": "python",
   "name": "python3"
  },
  "language_info": {
   "codemirror_mode": {
    "name": "ipython",
    "version": 3
   },
   "file_extension": ".py",
   "mimetype": "text/x-python",
   "name": "python",
   "nbconvert_exporter": "python",
   "pygments_lexer": "ipython3",
   "version": "3.12.10"
  }
 },
 "nbformat": 4,
 "nbformat_minor": 2
}
